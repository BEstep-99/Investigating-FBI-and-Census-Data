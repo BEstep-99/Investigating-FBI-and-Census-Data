{
 "cells": [
  {
   "cell_type": "markdown",
   "metadata": {},
   "source": [
    "> **Tip**: Welcome to the Investigate a Dataset project! You will find tips in quoted sections like this to help organize your approach to your investigation. Before submitting your project, it will be a good idea to go back through your report and remove these sections to make the presentation of your work as tidy as possible. First things first, you might want to double-click this Markdown cell and change the title so that it reflects your dataset and investigation.\n",
    "\n",
    "# Project: Investigate FBI and Census Datasets\n",
    "## By: Bradley Estep\n",
    "\n",
    "## Table of Contents\n",
    "<ul>\n",
    "<li><a href=\"#intro\">Introduction</a></li>\n",
    "<li><a href=\"#wrangling\">Data Wrangling</a></li>\n",
    "<li><a href=\"#eda\">Exploratory Data Analysis</a></li>\n",
    "<li><a href=\"#conclusions\">Conclusions</a></li>\n",
    "</ul>"
   ]
  },
  {
   "cell_type": "markdown",
   "metadata": {},
   "source": [
    "<a id='intro'></a>\n",
    "## Introduction\n",
    "\n",
    "> I chose to investigate the dataset FBI Gun Data, which includes two excel spreadsheets, gun_data.xlsx and U.S. Census Data.csv. The spreadsheet gun_data holds data on gun permits and related gun purchases per state, organized by months ranging from November, 1998 to September, 2017. The U.S. Census Data spreadsheet contains information on populations of US states, containing many different statistics, ranging from 2010 to 2016. I came up with three interesting questions to answer from this data. What is the correlation between the change in population per state and the change in gun permits per state? What is the correlation between the percentage of people having a bachelor's degree or higher per state and the percentage of gun permits and population per state? And what is the correlation between the median household income per state and the percentage of gun permits per state? My hypothesis is that the correlation between the first two variables will be positive, the second two variables will be negatively correlated, and the last two variables will also be negatively correlated. "
   ]
  },
  {
   "cell_type": "code",
   "execution_count": 1,
   "metadata": {},
   "outputs": [],
   "source": [
    "%matplotlib inline\n",
    "import matplotlib\n",
    "import numpy as np\n",
    "import matplotlib.pyplot as plt\n",
    "import pandas as pd\n",
    "import seaborn as sns\n",
    "pd.options.display.float_format = '{:.5f}'.format"
   ]
  },
  {
   "cell_type": "markdown",
   "metadata": {},
   "source": [
    "<a id='wrangling'></a>\n",
    "## Data Wrangling\n",
    "\n",
    "\n",
    "   ### General Properties"
   ]
  },
  {
   "cell_type": "code",
   "execution_count": 2,
   "metadata": {},
   "outputs": [],
   "source": [
    "gun_data = pd.DataFrame(data=pd.read_csv('gun_data.csv'))\n",
    "census_data = pd.DataFrame(data=pd.read_csv('U.S. Census Data.csv'))"
   ]
  },
  {
   "cell_type": "markdown",
   "metadata": {},
   "source": [
    ">This cell reads the two data sets into Pandas DataFrames."
   ]
  },
  {
   "cell_type": "code",
   "execution_count": 3,
   "metadata": {},
   "outputs": [
    {
     "data": {
      "text/html": [
       "<div>\n",
       "<style scoped>\n",
       "    .dataframe tbody tr th:only-of-type {\n",
       "        vertical-align: middle;\n",
       "    }\n",
       "\n",
       "    .dataframe tbody tr th {\n",
       "        vertical-align: top;\n",
       "    }\n",
       "\n",
       "    .dataframe thead th {\n",
       "        text-align: right;\n",
       "    }\n",
       "</style>\n",
       "<table border=\"1\" class=\"dataframe\">\n",
       "  <thead>\n",
       "    <tr style=\"text-align: right;\">\n",
       "      <th></th>\n",
       "      <th>Fact</th>\n",
       "      <th>Fact Note</th>\n",
       "      <th>Alabama</th>\n",
       "      <th>Alaska</th>\n",
       "      <th>Arizona</th>\n",
       "      <th>Arkansas</th>\n",
       "      <th>California</th>\n",
       "      <th>Colorado</th>\n",
       "      <th>Connecticut</th>\n",
       "      <th>Delaware</th>\n",
       "      <th>...</th>\n",
       "      <th>South Dakota</th>\n",
       "      <th>Tennessee</th>\n",
       "      <th>Texas</th>\n",
       "      <th>Utah</th>\n",
       "      <th>Vermont</th>\n",
       "      <th>Virginia</th>\n",
       "      <th>Washington</th>\n",
       "      <th>West Virginia</th>\n",
       "      <th>Wisconsin</th>\n",
       "      <th>Wyoming</th>\n",
       "    </tr>\n",
       "  </thead>\n",
       "  <tbody>\n",
       "    <tr>\n",
       "      <th>0</th>\n",
       "      <td>Population estimates, July 1, 2016</td>\n",
       "      <td>NaN</td>\n",
       "      <td>4863300</td>\n",
       "      <td>741894</td>\n",
       "      <td>6931071</td>\n",
       "      <td>2988248</td>\n",
       "      <td>39250017</td>\n",
       "      <td>5540545</td>\n",
       "      <td>3576452</td>\n",
       "      <td>952065</td>\n",
       "      <td>...</td>\n",
       "      <td>865454</td>\n",
       "      <td>6651194</td>\n",
       "      <td>27862596</td>\n",
       "      <td>3051217</td>\n",
       "      <td>624594</td>\n",
       "      <td>8411808</td>\n",
       "      <td>7288000</td>\n",
       "      <td>1831102</td>\n",
       "      <td>5778708</td>\n",
       "      <td>585501</td>\n",
       "    </tr>\n",
       "    <tr>\n",
       "      <th>1</th>\n",
       "      <td>Population estimates base, April 1, 2010</td>\n",
       "      <td>NaN</td>\n",
       "      <td>4780131</td>\n",
       "      <td>710249</td>\n",
       "      <td>6392301</td>\n",
       "      <td>2916025</td>\n",
       "      <td>37254522</td>\n",
       "      <td>5029324</td>\n",
       "      <td>3574114</td>\n",
       "      <td>897936</td>\n",
       "      <td>...</td>\n",
       "      <td>814195</td>\n",
       "      <td>6346298</td>\n",
       "      <td>25146100</td>\n",
       "      <td>2763888</td>\n",
       "      <td>625741</td>\n",
       "      <td>8001041</td>\n",
       "      <td>6724545</td>\n",
       "      <td>1853011</td>\n",
       "      <td>5687289</td>\n",
       "      <td>563767</td>\n",
       "    </tr>\n",
       "    <tr>\n",
       "      <th>2</th>\n",
       "      <td>Population, percent change - April 1, 2010 to ...</td>\n",
       "      <td>NaN</td>\n",
       "      <td>0.017</td>\n",
       "      <td>0.045</td>\n",
       "      <td>0.084</td>\n",
       "      <td>0.025</td>\n",
       "      <td>0.054</td>\n",
       "      <td>0.102</td>\n",
       "      <td>0.001</td>\n",
       "      <td>0.06</td>\n",
       "      <td>...</td>\n",
       "      <td>0.063</td>\n",
       "      <td>0.048</td>\n",
       "      <td>0.108</td>\n",
       "      <td>0.104</td>\n",
       "      <td>-0.002</td>\n",
       "      <td>0.051</td>\n",
       "      <td>0.084</td>\n",
       "      <td>-0.012</td>\n",
       "      <td>0.016</td>\n",
       "      <td>0.039</td>\n",
       "    </tr>\n",
       "    <tr>\n",
       "      <th>3</th>\n",
       "      <td>Population, Census, April 1, 2010</td>\n",
       "      <td>NaN</td>\n",
       "      <td>4779736</td>\n",
       "      <td>710231</td>\n",
       "      <td>6392017</td>\n",
       "      <td>2915918</td>\n",
       "      <td>37253956</td>\n",
       "      <td>5029196</td>\n",
       "      <td>3574097</td>\n",
       "      <td>897934</td>\n",
       "      <td>...</td>\n",
       "      <td>814180</td>\n",
       "      <td>6346105</td>\n",
       "      <td>25145561</td>\n",
       "      <td>2763885</td>\n",
       "      <td>625741</td>\n",
       "      <td>8001024</td>\n",
       "      <td>6724540</td>\n",
       "      <td>1852994</td>\n",
       "      <td>5686986</td>\n",
       "      <td>563626</td>\n",
       "    </tr>\n",
       "    <tr>\n",
       "      <th>4</th>\n",
       "      <td>Persons under 5 years, percent, July 1, 2016, ...</td>\n",
       "      <td>NaN</td>\n",
       "      <td>6.00%</td>\n",
       "      <td>7.30%</td>\n",
       "      <td>6.30%</td>\n",
       "      <td>6.40%</td>\n",
       "      <td>6.30%</td>\n",
       "      <td>6.10%</td>\n",
       "      <td>5.20%</td>\n",
       "      <td>5.80%</td>\n",
       "      <td>...</td>\n",
       "      <td>0.071</td>\n",
       "      <td>0.061</td>\n",
       "      <td>7.20%</td>\n",
       "      <td>8.30%</td>\n",
       "      <td>4.90%</td>\n",
       "      <td>6.10%</td>\n",
       "      <td>6.20%</td>\n",
       "      <td>5.50%</td>\n",
       "      <td>5.80%</td>\n",
       "      <td>6.50%</td>\n",
       "    </tr>\n",
       "  </tbody>\n",
       "</table>\n",
       "<p>5 rows × 52 columns</p>\n",
       "</div>"
      ],
      "text/plain": [
       "                                                Fact Fact Note  Alabama  \\\n",
       "0                 Population estimates, July 1, 2016       NaN  4863300   \n",
       "1           Population estimates base, April 1, 2010       NaN  4780131   \n",
       "2  Population, percent change - April 1, 2010 to ...       NaN    0.017   \n",
       "3                  Population, Census, April 1, 2010       NaN  4779736   \n",
       "4  Persons under 5 years, percent, July 1, 2016, ...       NaN    6.00%   \n",
       "\n",
       "   Alaska  Arizona Arkansas California Colorado Connecticut Delaware   ...    \\\n",
       "0  741894  6931071  2988248   39250017  5540545     3576452   952065   ...     \n",
       "1  710249  6392301  2916025   37254522  5029324     3574114   897936   ...     \n",
       "2   0.045    0.084    0.025      0.054    0.102       0.001     0.06   ...     \n",
       "3  710231  6392017  2915918   37253956  5029196     3574097   897934   ...     \n",
       "4   7.30%    6.30%    6.40%      6.30%    6.10%       5.20%    5.80%   ...     \n",
       "\n",
       "  South Dakota Tennessee     Texas     Utah Vermont Virginia Washington  \\\n",
       "0       865454   6651194  27862596  3051217  624594  8411808    7288000   \n",
       "1       814195   6346298  25146100  2763888  625741  8001041    6724545   \n",
       "2        0.063     0.048     0.108    0.104  -0.002    0.051      0.084   \n",
       "3       814180   6346105  25145561  2763885  625741  8001024    6724540   \n",
       "4        0.071     0.061     7.20%    8.30%   4.90%    6.10%      6.20%   \n",
       "\n",
       "  West Virginia Wisconsin Wyoming  \n",
       "0       1831102   5778708  585501  \n",
       "1       1853011   5687289  563767  \n",
       "2        -0.012     0.016   0.039  \n",
       "3       1852994   5686986  563626  \n",
       "4         5.50%     5.80%   6.50%  \n",
       "\n",
       "[5 rows x 52 columns]"
      ]
     },
     "execution_count": 3,
     "metadata": {},
     "output_type": "execute_result"
    }
   ],
   "source": [
    "census_data.head(n=5)"
   ]
  },
  {
   "cell_type": "code",
   "execution_count": 4,
   "metadata": {},
   "outputs": [
    {
     "data": {
      "text/html": [
       "<div>\n",
       "<style scoped>\n",
       "    .dataframe tbody tr th:only-of-type {\n",
       "        vertical-align: middle;\n",
       "    }\n",
       "\n",
       "    .dataframe tbody tr th {\n",
       "        vertical-align: top;\n",
       "    }\n",
       "\n",
       "    .dataframe thead th {\n",
       "        text-align: right;\n",
       "    }\n",
       "</style>\n",
       "<table border=\"1\" class=\"dataframe\">\n",
       "  <thead>\n",
       "    <tr style=\"text-align: right;\">\n",
       "      <th></th>\n",
       "      <th>month</th>\n",
       "      <th>state</th>\n",
       "      <th>permit</th>\n",
       "      <th>permit_recheck</th>\n",
       "      <th>handgun</th>\n",
       "      <th>long_gun</th>\n",
       "      <th>other</th>\n",
       "      <th>multiple</th>\n",
       "      <th>admin</th>\n",
       "      <th>prepawn_handgun</th>\n",
       "      <th>...</th>\n",
       "      <th>returned_other</th>\n",
       "      <th>rentals_handgun</th>\n",
       "      <th>rentals_long_gun</th>\n",
       "      <th>private_sale_handgun</th>\n",
       "      <th>private_sale_long_gun</th>\n",
       "      <th>private_sale_other</th>\n",
       "      <th>return_to_seller_handgun</th>\n",
       "      <th>return_to_seller_long_gun</th>\n",
       "      <th>return_to_seller_other</th>\n",
       "      <th>totals</th>\n",
       "    </tr>\n",
       "  </thead>\n",
       "  <tbody>\n",
       "    <tr>\n",
       "      <th>0</th>\n",
       "      <td>2017-09</td>\n",
       "      <td>Alabama</td>\n",
       "      <td>16717.00000</td>\n",
       "      <td>0.00000</td>\n",
       "      <td>5734.00000</td>\n",
       "      <td>6320.00000</td>\n",
       "      <td>221.00000</td>\n",
       "      <td>317</td>\n",
       "      <td>0.00000</td>\n",
       "      <td>15.00000</td>\n",
       "      <td>...</td>\n",
       "      <td>0.00000</td>\n",
       "      <td>0.00000</td>\n",
       "      <td>0.00000</td>\n",
       "      <td>9.00000</td>\n",
       "      <td>16.00000</td>\n",
       "      <td>3.00000</td>\n",
       "      <td>0.00000</td>\n",
       "      <td>0.00000</td>\n",
       "      <td>3.00000</td>\n",
       "      <td>32019</td>\n",
       "    </tr>\n",
       "    <tr>\n",
       "      <th>1</th>\n",
       "      <td>2017-09</td>\n",
       "      <td>Alaska</td>\n",
       "      <td>209.00000</td>\n",
       "      <td>2.00000</td>\n",
       "      <td>2320.00000</td>\n",
       "      <td>2930.00000</td>\n",
       "      <td>219.00000</td>\n",
       "      <td>160</td>\n",
       "      <td>0.00000</td>\n",
       "      <td>5.00000</td>\n",
       "      <td>...</td>\n",
       "      <td>0.00000</td>\n",
       "      <td>0.00000</td>\n",
       "      <td>0.00000</td>\n",
       "      <td>17.00000</td>\n",
       "      <td>24.00000</td>\n",
       "      <td>1.00000</td>\n",
       "      <td>0.00000</td>\n",
       "      <td>0.00000</td>\n",
       "      <td>0.00000</td>\n",
       "      <td>6303</td>\n",
       "    </tr>\n",
       "    <tr>\n",
       "      <th>2</th>\n",
       "      <td>2017-09</td>\n",
       "      <td>Arizona</td>\n",
       "      <td>5069.00000</td>\n",
       "      <td>382.00000</td>\n",
       "      <td>11063.00000</td>\n",
       "      <td>7946.00000</td>\n",
       "      <td>920.00000</td>\n",
       "      <td>631</td>\n",
       "      <td>0.00000</td>\n",
       "      <td>13.00000</td>\n",
       "      <td>...</td>\n",
       "      <td>0.00000</td>\n",
       "      <td>0.00000</td>\n",
       "      <td>0.00000</td>\n",
       "      <td>38.00000</td>\n",
       "      <td>12.00000</td>\n",
       "      <td>2.00000</td>\n",
       "      <td>0.00000</td>\n",
       "      <td>0.00000</td>\n",
       "      <td>0.00000</td>\n",
       "      <td>28394</td>\n",
       "    </tr>\n",
       "    <tr>\n",
       "      <th>3</th>\n",
       "      <td>2017-09</td>\n",
       "      <td>Arkansas</td>\n",
       "      <td>2935.00000</td>\n",
       "      <td>632.00000</td>\n",
       "      <td>4347.00000</td>\n",
       "      <td>6063.00000</td>\n",
       "      <td>165.00000</td>\n",
       "      <td>366</td>\n",
       "      <td>51.00000</td>\n",
       "      <td>12.00000</td>\n",
       "      <td>...</td>\n",
       "      <td>0.00000</td>\n",
       "      <td>0.00000</td>\n",
       "      <td>0.00000</td>\n",
       "      <td>13.00000</td>\n",
       "      <td>23.00000</td>\n",
       "      <td>0.00000</td>\n",
       "      <td>0.00000</td>\n",
       "      <td>2.00000</td>\n",
       "      <td>1.00000</td>\n",
       "      <td>17747</td>\n",
       "    </tr>\n",
       "    <tr>\n",
       "      <th>4</th>\n",
       "      <td>2017-09</td>\n",
       "      <td>California</td>\n",
       "      <td>57839.00000</td>\n",
       "      <td>0.00000</td>\n",
       "      <td>37165.00000</td>\n",
       "      <td>24581.00000</td>\n",
       "      <td>2984.00000</td>\n",
       "      <td>0</td>\n",
       "      <td>0.00000</td>\n",
       "      <td>0.00000</td>\n",
       "      <td>...</td>\n",
       "      <td>0.00000</td>\n",
       "      <td>0.00000</td>\n",
       "      <td>0.00000</td>\n",
       "      <td>0.00000</td>\n",
       "      <td>0.00000</td>\n",
       "      <td>0.00000</td>\n",
       "      <td>0.00000</td>\n",
       "      <td>0.00000</td>\n",
       "      <td>0.00000</td>\n",
       "      <td>123506</td>\n",
       "    </tr>\n",
       "  </tbody>\n",
       "</table>\n",
       "<p>5 rows × 27 columns</p>\n",
       "</div>"
      ],
      "text/plain": [
       "     month       state      permit  permit_recheck     handgun    long_gun  \\\n",
       "0  2017-09     Alabama 16717.00000         0.00000  5734.00000  6320.00000   \n",
       "1  2017-09      Alaska   209.00000         2.00000  2320.00000  2930.00000   \n",
       "2  2017-09     Arizona  5069.00000       382.00000 11063.00000  7946.00000   \n",
       "3  2017-09    Arkansas  2935.00000       632.00000  4347.00000  6063.00000   \n",
       "4  2017-09  California 57839.00000         0.00000 37165.00000 24581.00000   \n",
       "\n",
       "       other  multiple    admin  prepawn_handgun   ...    returned_other  \\\n",
       "0  221.00000       317  0.00000         15.00000   ...           0.00000   \n",
       "1  219.00000       160  0.00000          5.00000   ...           0.00000   \n",
       "2  920.00000       631  0.00000         13.00000   ...           0.00000   \n",
       "3  165.00000       366 51.00000         12.00000   ...           0.00000   \n",
       "4 2984.00000         0  0.00000          0.00000   ...           0.00000   \n",
       "\n",
       "   rentals_handgun  rentals_long_gun  private_sale_handgun  \\\n",
       "0          0.00000           0.00000               9.00000   \n",
       "1          0.00000           0.00000              17.00000   \n",
       "2          0.00000           0.00000              38.00000   \n",
       "3          0.00000           0.00000              13.00000   \n",
       "4          0.00000           0.00000               0.00000   \n",
       "\n",
       "   private_sale_long_gun  private_sale_other  return_to_seller_handgun  \\\n",
       "0               16.00000             3.00000                   0.00000   \n",
       "1               24.00000             1.00000                   0.00000   \n",
       "2               12.00000             2.00000                   0.00000   \n",
       "3               23.00000             0.00000                   0.00000   \n",
       "4                0.00000             0.00000                   0.00000   \n",
       "\n",
       "   return_to_seller_long_gun  return_to_seller_other  totals  \n",
       "0                    0.00000                 3.00000   32019  \n",
       "1                    0.00000                 0.00000    6303  \n",
       "2                    0.00000                 0.00000   28394  \n",
       "3                    2.00000                 1.00000   17747  \n",
       "4                    0.00000                 0.00000  123506  \n",
       "\n",
       "[5 rows x 27 columns]"
      ]
     },
     "execution_count": 4,
     "metadata": {},
     "output_type": "execute_result"
    }
   ],
   "source": [
    "gun_data.head(n=5)"
   ]
  },
  {
   "cell_type": "markdown",
   "metadata": {},
   "source": [
    ">These cells show the two tables, census_data and gun_data. The first issue with the census_data table is that the table is oriented wrong. If left in this orientation, it would be impossible to change the data types within the table because pandas only allows different data types within each row, not within each column. There is also data in gun_data from years that are not in census_data and are therefore irrelevant to our questions, so they can be removed."
   ]
  },
  {
   "cell_type": "code",
   "execution_count": 5,
   "metadata": {},
   "outputs": [
    {
     "data": {
      "text/plain": [
       "55"
      ]
     },
     "execution_count": 5,
     "metadata": {},
     "output_type": "execute_result"
    }
   ],
   "source": [
    "len(gun_data['state'].unique())"
   ]
  },
  {
   "cell_type": "code",
   "execution_count": 6,
   "metadata": {},
   "outputs": [
    {
     "data": {
      "text/plain": [
       "50"
      ]
     },
     "execution_count": 6,
     "metadata": {},
     "output_type": "execute_result"
    }
   ],
   "source": [
    "len(census_data.iloc[0]) - 2"
   ]
  },
  {
   "cell_type": "code",
   "execution_count": 7,
   "metadata": {},
   "outputs": [
    {
     "data": {
      "text/plain": [
       "array(['Alabama', 'Alaska', 'Arizona', 'Arkansas', 'California',\n",
       "       'Colorado', 'Connecticut', 'Delaware', 'District of Columbia',\n",
       "       'Florida', 'Georgia', 'Guam', 'Hawaii', 'Idaho', 'Illinois',\n",
       "       'Indiana', 'Iowa', 'Kansas', 'Kentucky', 'Louisiana', 'Maine',\n",
       "       'Mariana Islands', 'Maryland', 'Massachusetts', 'Michigan',\n",
       "       'Minnesota', 'Mississippi', 'Missouri', 'Montana', 'Nebraska',\n",
       "       'Nevada', 'New Hampshire', 'New Jersey', 'New Mexico', 'New York',\n",
       "       'North Carolina', 'North Dakota', 'Ohio', 'Oklahoma', 'Oregon',\n",
       "       'Pennsylvania', 'Puerto Rico', 'Rhode Island', 'South Carolina',\n",
       "       'South Dakota', 'Tennessee', 'Texas', 'Utah', 'Vermont',\n",
       "       'Virgin Islands', 'Virginia', 'Washington', 'West Virginia',\n",
       "       'Wisconsin', 'Wyoming'], dtype=object)"
      ]
     },
     "execution_count": 7,
     "metadata": {},
     "output_type": "execute_result"
    }
   ],
   "source": [
    "gun_data['state'].unique()"
   ]
  },
  {
   "cell_type": "code",
   "execution_count": 8,
   "metadata": {},
   "outputs": [
    {
     "data": {
      "text/plain": [
       "Fact              Population estimates, July 1, 2016\n",
       "Fact Note                                        NaN\n",
       "Alabama                                      4863300\n",
       "Alaska                                        741894\n",
       "Arizona                                      6931071\n",
       "Arkansas                                     2988248\n",
       "California                                  39250017\n",
       "Colorado                                     5540545\n",
       "Connecticut                                  3576452\n",
       "Delaware                                      952065\n",
       "Florida                                     20612439\n",
       "Georgia                                     10310371\n",
       "Hawaii                                       1428557\n",
       "Idaho                                        1683140\n",
       "Illinois                                    12801539\n",
       "Indiana                                      6633053\n",
       "Iowa                                         3134693\n",
       "Kansas                                       2907289\n",
       "Kentucky                                     4436974\n",
       "Louisiana                                    4681666\n",
       "Maine                                        1331479\n",
       "Maryland                                     6016447\n",
       "Massachusetts                                6811779\n",
       "Michigan                                     9928300\n",
       "Minnesota                                    5519952\n",
       "Mississippi                                  2988726\n",
       "Missouri                                     6093000\n",
       "Montana                                      1042520\n",
       "Nebraska                                     1907116\n",
       "Nevada                                       2940058\n",
       "New Hampshire                                1334795\n",
       "New Jersey                                   8944469\n",
       "New Mexico                                   2081015\n",
       "New York                                    19745289\n",
       "North Carolina                              10146788\n",
       "North Dakota                                  757952\n",
       "Ohio                                        11614373\n",
       "Oklahoma                                     3923561\n",
       "Oregon                                       4093465\n",
       "Pennsylvania                                12784227\n",
       "Rhode Island                                 1056426\n",
       "South Carolina                               4961119\n",
       "South Dakota                                  865454\n",
       "Tennessee                                    6651194\n",
       "Texas                                       27862596\n",
       "Utah                                         3051217\n",
       "Vermont                                       624594\n",
       "Virginia                                     8411808\n",
       "Washington                                   7288000\n",
       "West Virginia                                1831102\n",
       "Wisconsin                                    5778708\n",
       "Wyoming                                       585501\n",
       "Name: 0, dtype: object"
      ]
     },
     "execution_count": 8,
     "metadata": {},
     "output_type": "execute_result"
    }
   ],
   "source": [
    "census_data.iloc[0]"
   ]
  },
  {
   "cell_type": "markdown",
   "metadata": {},
   "source": [
    ">The first cell shows the number of unique states in the gun_data table, and the second cell shows the number of columns in the census_data table minus the two first columns, 'Fact' and 'Fact Note' which leaves only the states as columns. Upon further inspection, the gun_data table includes the District of Columbia, Guam, Mariana Islands, Puerto Rico, and Virgin Islands where the census_data table does not. These five states will be removed from the gun_data table to make the two tables match. Another observation in the census_data table is that several states' population estimates don't include commas separating the numbers. This will also have to be corrected."
   ]
  },
  {
   "cell_type": "code",
   "execution_count": 9,
   "metadata": {},
   "outputs": [
    {
     "data": {
      "text/plain": [
       "month                         object\n",
       "state                         object\n",
       "permit                       float64\n",
       "permit_recheck               float64\n",
       "handgun                      float64\n",
       "long_gun                     float64\n",
       "other                        float64\n",
       "multiple                       int64\n",
       "admin                        float64\n",
       "prepawn_handgun              float64\n",
       "prepawn_long_gun             float64\n",
       "prepawn_other                float64\n",
       "redemption_handgun           float64\n",
       "redemption_long_gun          float64\n",
       "redemption_other             float64\n",
       "returned_handgun             float64\n",
       "returned_long_gun            float64\n",
       "returned_other               float64\n",
       "rentals_handgun              float64\n",
       "rentals_long_gun             float64\n",
       "private_sale_handgun         float64\n",
       "private_sale_long_gun        float64\n",
       "private_sale_other           float64\n",
       "return_to_seller_handgun     float64\n",
       "return_to_seller_long_gun    float64\n",
       "return_to_seller_other       float64\n",
       "totals                         int64\n",
       "dtype: object"
      ]
     },
     "execution_count": 9,
     "metadata": {},
     "output_type": "execute_result"
    }
   ],
   "source": [
    "gun_data.dtypes"
   ]
  },
  {
   "cell_type": "markdown",
   "metadata": {},
   "source": [
    ">The gun_data table's month column's data type need to be adjusted to be a datetime64 data type."
   ]
  },
  {
   "cell_type": "markdown",
   "metadata": {},
   "source": [
    "### Data Cleaning"
   ]
  },
  {
   "cell_type": "code",
   "execution_count": 10,
   "metadata": {},
   "outputs": [],
   "source": [
    "gun_data = gun_data.astype({'month': 'datetime64'})"
   ]
  },
  {
   "cell_type": "markdown",
   "metadata": {},
   "source": [
    ">This cell changed the data type of the month column in gun_data to a datetime64."
   ]
  },
  {
   "cell_type": "code",
   "execution_count": 11,
   "metadata": {},
   "outputs": [],
   "source": [
    "census_data = census_data.T"
   ]
  },
  {
   "cell_type": "markdown",
   "metadata": {},
   "source": [
    ">This cell transposed the census_data table so that the rows and columns switched places, making it possible to change the data types of each column in the table correctly."
   ]
  },
  {
   "cell_type": "code",
   "execution_count": 12,
   "metadata": {},
   "outputs": [],
   "source": [
    "census_data.columns = census_data.iloc[0]"
   ]
  },
  {
   "cell_type": "code",
   "execution_count": 13,
   "metadata": {},
   "outputs": [],
   "source": [
    "census_data = census_data.drop('Fact')"
   ]
  },
  {
   "cell_type": "code",
   "execution_count": 14,
   "metadata": {},
   "outputs": [],
   "source": [
    "census_data = census_data.drop('Fact Note')"
   ]
  },
  {
   "cell_type": "code",
   "execution_count": 15,
   "metadata": {},
   "outputs": [
    {
     "data": {
      "text/html": [
       "<div>\n",
       "<style scoped>\n",
       "    .dataframe tbody tr th:only-of-type {\n",
       "        vertical-align: middle;\n",
       "    }\n",
       "\n",
       "    .dataframe tbody tr th {\n",
       "        vertical-align: top;\n",
       "    }\n",
       "\n",
       "    .dataframe thead th {\n",
       "        text-align: right;\n",
       "    }\n",
       "</style>\n",
       "<table border=\"1\" class=\"dataframe\">\n",
       "  <thead>\n",
       "    <tr style=\"text-align: right;\">\n",
       "      <th>Fact</th>\n",
       "      <th>Population estimates, July 1, 2016</th>\n",
       "      <th>Population estimates base, April 1, 2010</th>\n",
       "      <th>Population, percent change - April 1, 2010 to July 1, 2016</th>\n",
       "      <th>Population, Census, April 1, 2010</th>\n",
       "      <th>Persons under 5 years, percent, July 1, 2016,  (V2016)</th>\n",
       "      <th>Persons under 5 years, percent, April 1, 2010</th>\n",
       "      <th>Persons under 18 years, percent, July 1, 2016,  (V2016)</th>\n",
       "      <th>Persons under 18 years, percent, April 1, 2010</th>\n",
       "      <th>Persons 65 years and over, percent,  July 1, 2016,  (V2016)</th>\n",
       "      <th>Persons 65 years and over, percent, April 1, 2010</th>\n",
       "      <th>...</th>\n",
       "      <th>nan</th>\n",
       "      <th>Value Flags</th>\n",
       "      <th>-</th>\n",
       "      <th>D</th>\n",
       "      <th>F</th>\n",
       "      <th>FN</th>\n",
       "      <th>nan</th>\n",
       "      <th>S</th>\n",
       "      <th>X</th>\n",
       "      <th>Z</th>\n",
       "    </tr>\n",
       "  </thead>\n",
       "  <tbody>\n",
       "    <tr>\n",
       "      <th>Alabama</th>\n",
       "      <td>4863300</td>\n",
       "      <td>4780131</td>\n",
       "      <td>0.017</td>\n",
       "      <td>4779736</td>\n",
       "      <td>6.00%</td>\n",
       "      <td>6.40%</td>\n",
       "      <td>22.60%</td>\n",
       "      <td>23.70%</td>\n",
       "      <td>16.10%</td>\n",
       "      <td>13.80%</td>\n",
       "      <td>...</td>\n",
       "      <td>NaN</td>\n",
       "      <td>NaN</td>\n",
       "      <td>NaN</td>\n",
       "      <td>NaN</td>\n",
       "      <td>NaN</td>\n",
       "      <td>NaN</td>\n",
       "      <td>NaN</td>\n",
       "      <td>NaN</td>\n",
       "      <td>NaN</td>\n",
       "      <td>NaN</td>\n",
       "    </tr>\n",
       "    <tr>\n",
       "      <th>Alaska</th>\n",
       "      <td>741894</td>\n",
       "      <td>710249</td>\n",
       "      <td>0.045</td>\n",
       "      <td>710231</td>\n",
       "      <td>7.30%</td>\n",
       "      <td>7.60%</td>\n",
       "      <td>25.20%</td>\n",
       "      <td>26.40%</td>\n",
       "      <td>10.40%</td>\n",
       "      <td>7.70%</td>\n",
       "      <td>...</td>\n",
       "      <td>NaN</td>\n",
       "      <td>NaN</td>\n",
       "      <td>NaN</td>\n",
       "      <td>NaN</td>\n",
       "      <td>NaN</td>\n",
       "      <td>NaN</td>\n",
       "      <td>NaN</td>\n",
       "      <td>NaN</td>\n",
       "      <td>NaN</td>\n",
       "      <td>NaN</td>\n",
       "    </tr>\n",
       "    <tr>\n",
       "      <th>Arizona</th>\n",
       "      <td>6931071</td>\n",
       "      <td>6392301</td>\n",
       "      <td>0.084</td>\n",
       "      <td>6392017</td>\n",
       "      <td>6.30%</td>\n",
       "      <td>7.10%</td>\n",
       "      <td>23.50%</td>\n",
       "      <td>25.50%</td>\n",
       "      <td>16.90%</td>\n",
       "      <td>13.80%</td>\n",
       "      <td>...</td>\n",
       "      <td>NaN</td>\n",
       "      <td>NaN</td>\n",
       "      <td>NaN</td>\n",
       "      <td>NaN</td>\n",
       "      <td>NaN</td>\n",
       "      <td>NaN</td>\n",
       "      <td>NaN</td>\n",
       "      <td>NaN</td>\n",
       "      <td>NaN</td>\n",
       "      <td>NaN</td>\n",
       "    </tr>\n",
       "    <tr>\n",
       "      <th>Arkansas</th>\n",
       "      <td>2988248</td>\n",
       "      <td>2916025</td>\n",
       "      <td>0.025</td>\n",
       "      <td>2915918</td>\n",
       "      <td>6.40%</td>\n",
       "      <td>6.80%</td>\n",
       "      <td>23.60%</td>\n",
       "      <td>24.40%</td>\n",
       "      <td>16.30%</td>\n",
       "      <td>14.40%</td>\n",
       "      <td>...</td>\n",
       "      <td>NaN</td>\n",
       "      <td>NaN</td>\n",
       "      <td>NaN</td>\n",
       "      <td>NaN</td>\n",
       "      <td>NaN</td>\n",
       "      <td>NaN</td>\n",
       "      <td>NaN</td>\n",
       "      <td>NaN</td>\n",
       "      <td>NaN</td>\n",
       "      <td>NaN</td>\n",
       "    </tr>\n",
       "    <tr>\n",
       "      <th>California</th>\n",
       "      <td>39250017</td>\n",
       "      <td>37254522</td>\n",
       "      <td>0.054</td>\n",
       "      <td>37253956</td>\n",
       "      <td>6.30%</td>\n",
       "      <td>6.80%</td>\n",
       "      <td>23.20%</td>\n",
       "      <td>25.00%</td>\n",
       "      <td>13.60%</td>\n",
       "      <td>11.40%</td>\n",
       "      <td>...</td>\n",
       "      <td>NaN</td>\n",
       "      <td>NaN</td>\n",
       "      <td>NaN</td>\n",
       "      <td>NaN</td>\n",
       "      <td>NaN</td>\n",
       "      <td>NaN</td>\n",
       "      <td>NaN</td>\n",
       "      <td>NaN</td>\n",
       "      <td>NaN</td>\n",
       "      <td>NaN</td>\n",
       "    </tr>\n",
       "  </tbody>\n",
       "</table>\n",
       "<p>5 rows × 85 columns</p>\n",
       "</div>"
      ],
      "text/plain": [
       "Fact       Population estimates, July 1, 2016  \\\n",
       "Alabama                               4863300   \n",
       "Alaska                                 741894   \n",
       "Arizona                               6931071   \n",
       "Arkansas                              2988248   \n",
       "California                           39250017   \n",
       "\n",
       "Fact       Population estimates base, April 1, 2010  \\\n",
       "Alabama                                     4780131   \n",
       "Alaska                                       710249   \n",
       "Arizona                                     6392301   \n",
       "Arkansas                                    2916025   \n",
       "California                                 37254522   \n",
       "\n",
       "Fact       Population, percent change - April 1, 2010 to July 1, 2016  \\\n",
       "Alabama                                                 0.017           \n",
       "Alaska                                                  0.045           \n",
       "Arizona                                                 0.084           \n",
       "Arkansas                                                0.025           \n",
       "California                                              0.054           \n",
       "\n",
       "Fact       Population, Census, April 1, 2010  \\\n",
       "Alabama                              4779736   \n",
       "Alaska                                710231   \n",
       "Arizona                              6392017   \n",
       "Arkansas                             2915918   \n",
       "California                          37253956   \n",
       "\n",
       "Fact       Persons under 5 years, percent, July 1, 2016,  (V2016)  \\\n",
       "Alabama                                                 6.00%       \n",
       "Alaska                                                  7.30%       \n",
       "Arizona                                                 6.30%       \n",
       "Arkansas                                                6.40%       \n",
       "California                                              6.30%       \n",
       "\n",
       "Fact       Persons under 5 years, percent, April 1, 2010  \\\n",
       "Alabama                                            6.40%   \n",
       "Alaska                                             7.60%   \n",
       "Arizona                                            7.10%   \n",
       "Arkansas                                           6.80%   \n",
       "California                                         6.80%   \n",
       "\n",
       "Fact       Persons under 18 years, percent, July 1, 2016,  (V2016)  \\\n",
       "Alabama                                                22.60%        \n",
       "Alaska                                                 25.20%        \n",
       "Arizona                                                23.50%        \n",
       "Arkansas                                               23.60%        \n",
       "California                                             23.20%        \n",
       "\n",
       "Fact       Persons under 18 years, percent, April 1, 2010  \\\n",
       "Alabama                                            23.70%   \n",
       "Alaska                                             26.40%   \n",
       "Arizona                                            25.50%   \n",
       "Arkansas                                           24.40%   \n",
       "California                                         25.00%   \n",
       "\n",
       "Fact       Persons 65 years and over, percent,  July 1, 2016,  (V2016)  \\\n",
       "Alabama                                                16.10%            \n",
       "Alaska                                                 10.40%            \n",
       "Arizona                                                16.90%            \n",
       "Arkansas                                               16.30%            \n",
       "California                                             13.60%            \n",
       "\n",
       "Fact       Persons 65 years and over, percent, April 1, 2010 ...   NaN  \\\n",
       "Alabama                                               13.80% ...   NaN   \n",
       "Alaska                                                 7.70% ...   NaN   \n",
       "Arizona                                               13.80% ...   NaN   \n",
       "Arkansas                                              14.40% ...   NaN   \n",
       "California                                            11.40% ...   NaN   \n",
       "\n",
       "Fact       Value Flags    -    D    F   FN  NaN    S    X    Z  \n",
       "Alabama            NaN  NaN  NaN  NaN  NaN  NaN  NaN  NaN  NaN  \n",
       "Alaska             NaN  NaN  NaN  NaN  NaN  NaN  NaN  NaN  NaN  \n",
       "Arizona            NaN  NaN  NaN  NaN  NaN  NaN  NaN  NaN  NaN  \n",
       "Arkansas           NaN  NaN  NaN  NaN  NaN  NaN  NaN  NaN  NaN  \n",
       "California         NaN  NaN  NaN  NaN  NaN  NaN  NaN  NaN  NaN  \n",
       "\n",
       "[5 rows x 85 columns]"
      ]
     },
     "execution_count": 15,
     "metadata": {},
     "output_type": "execute_result"
    }
   ],
   "source": [
    "census_data.head(n=5)"
   ]
  },
  {
   "cell_type": "markdown",
   "metadata": {},
   "source": [
    ">This group of cells changed the 'Fact' row the the column headers of census_data and removed the 'Fact' row from the table. It also removed the 'Fact Note' row since it was irrelevant to our questions."
   ]
  },
  {
   "cell_type": "code",
   "execution_count": 16,
   "metadata": {},
   "outputs": [],
   "source": [
    "gun_data = gun_data.set_index(gun_data['state'])"
   ]
  },
  {
   "cell_type": "code",
   "execution_count": 17,
   "metadata": {},
   "outputs": [
    {
     "data": {
      "text/html": [
       "<div>\n",
       "<style scoped>\n",
       "    .dataframe tbody tr th:only-of-type {\n",
       "        vertical-align: middle;\n",
       "    }\n",
       "\n",
       "    .dataframe tbody tr th {\n",
       "        vertical-align: top;\n",
       "    }\n",
       "\n",
       "    .dataframe thead th {\n",
       "        text-align: right;\n",
       "    }\n",
       "</style>\n",
       "<table border=\"1\" class=\"dataframe\">\n",
       "  <thead>\n",
       "    <tr style=\"text-align: right;\">\n",
       "      <th></th>\n",
       "      <th>month</th>\n",
       "      <th>state</th>\n",
       "      <th>permit</th>\n",
       "      <th>permit_recheck</th>\n",
       "      <th>handgun</th>\n",
       "      <th>long_gun</th>\n",
       "      <th>other</th>\n",
       "      <th>multiple</th>\n",
       "      <th>admin</th>\n",
       "      <th>prepawn_handgun</th>\n",
       "      <th>...</th>\n",
       "      <th>returned_other</th>\n",
       "      <th>rentals_handgun</th>\n",
       "      <th>rentals_long_gun</th>\n",
       "      <th>private_sale_handgun</th>\n",
       "      <th>private_sale_long_gun</th>\n",
       "      <th>private_sale_other</th>\n",
       "      <th>return_to_seller_handgun</th>\n",
       "      <th>return_to_seller_long_gun</th>\n",
       "      <th>return_to_seller_other</th>\n",
       "      <th>totals</th>\n",
       "    </tr>\n",
       "    <tr>\n",
       "      <th>state</th>\n",
       "      <th></th>\n",
       "      <th></th>\n",
       "      <th></th>\n",
       "      <th></th>\n",
       "      <th></th>\n",
       "      <th></th>\n",
       "      <th></th>\n",
       "      <th></th>\n",
       "      <th></th>\n",
       "      <th></th>\n",
       "      <th></th>\n",
       "      <th></th>\n",
       "      <th></th>\n",
       "      <th></th>\n",
       "      <th></th>\n",
       "      <th></th>\n",
       "      <th></th>\n",
       "      <th></th>\n",
       "      <th></th>\n",
       "      <th></th>\n",
       "      <th></th>\n",
       "    </tr>\n",
       "  </thead>\n",
       "  <tbody>\n",
       "    <tr>\n",
       "      <th>Alabama</th>\n",
       "      <td>2017-09-01</td>\n",
       "      <td>Alabama</td>\n",
       "      <td>16717.00000</td>\n",
       "      <td>0.00000</td>\n",
       "      <td>5734.00000</td>\n",
       "      <td>6320.00000</td>\n",
       "      <td>221.00000</td>\n",
       "      <td>317</td>\n",
       "      <td>0.00000</td>\n",
       "      <td>15.00000</td>\n",
       "      <td>...</td>\n",
       "      <td>0.00000</td>\n",
       "      <td>0.00000</td>\n",
       "      <td>0.00000</td>\n",
       "      <td>9.00000</td>\n",
       "      <td>16.00000</td>\n",
       "      <td>3.00000</td>\n",
       "      <td>0.00000</td>\n",
       "      <td>0.00000</td>\n",
       "      <td>3.00000</td>\n",
       "      <td>32019</td>\n",
       "    </tr>\n",
       "    <tr>\n",
       "      <th>Alaska</th>\n",
       "      <td>2017-09-01</td>\n",
       "      <td>Alaska</td>\n",
       "      <td>209.00000</td>\n",
       "      <td>2.00000</td>\n",
       "      <td>2320.00000</td>\n",
       "      <td>2930.00000</td>\n",
       "      <td>219.00000</td>\n",
       "      <td>160</td>\n",
       "      <td>0.00000</td>\n",
       "      <td>5.00000</td>\n",
       "      <td>...</td>\n",
       "      <td>0.00000</td>\n",
       "      <td>0.00000</td>\n",
       "      <td>0.00000</td>\n",
       "      <td>17.00000</td>\n",
       "      <td>24.00000</td>\n",
       "      <td>1.00000</td>\n",
       "      <td>0.00000</td>\n",
       "      <td>0.00000</td>\n",
       "      <td>0.00000</td>\n",
       "      <td>6303</td>\n",
       "    </tr>\n",
       "    <tr>\n",
       "      <th>Arizona</th>\n",
       "      <td>2017-09-01</td>\n",
       "      <td>Arizona</td>\n",
       "      <td>5069.00000</td>\n",
       "      <td>382.00000</td>\n",
       "      <td>11063.00000</td>\n",
       "      <td>7946.00000</td>\n",
       "      <td>920.00000</td>\n",
       "      <td>631</td>\n",
       "      <td>0.00000</td>\n",
       "      <td>13.00000</td>\n",
       "      <td>...</td>\n",
       "      <td>0.00000</td>\n",
       "      <td>0.00000</td>\n",
       "      <td>0.00000</td>\n",
       "      <td>38.00000</td>\n",
       "      <td>12.00000</td>\n",
       "      <td>2.00000</td>\n",
       "      <td>0.00000</td>\n",
       "      <td>0.00000</td>\n",
       "      <td>0.00000</td>\n",
       "      <td>28394</td>\n",
       "    </tr>\n",
       "    <tr>\n",
       "      <th>Arkansas</th>\n",
       "      <td>2017-09-01</td>\n",
       "      <td>Arkansas</td>\n",
       "      <td>2935.00000</td>\n",
       "      <td>632.00000</td>\n",
       "      <td>4347.00000</td>\n",
       "      <td>6063.00000</td>\n",
       "      <td>165.00000</td>\n",
       "      <td>366</td>\n",
       "      <td>51.00000</td>\n",
       "      <td>12.00000</td>\n",
       "      <td>...</td>\n",
       "      <td>0.00000</td>\n",
       "      <td>0.00000</td>\n",
       "      <td>0.00000</td>\n",
       "      <td>13.00000</td>\n",
       "      <td>23.00000</td>\n",
       "      <td>0.00000</td>\n",
       "      <td>0.00000</td>\n",
       "      <td>2.00000</td>\n",
       "      <td>1.00000</td>\n",
       "      <td>17747</td>\n",
       "    </tr>\n",
       "    <tr>\n",
       "      <th>California</th>\n",
       "      <td>2017-09-01</td>\n",
       "      <td>California</td>\n",
       "      <td>57839.00000</td>\n",
       "      <td>0.00000</td>\n",
       "      <td>37165.00000</td>\n",
       "      <td>24581.00000</td>\n",
       "      <td>2984.00000</td>\n",
       "      <td>0</td>\n",
       "      <td>0.00000</td>\n",
       "      <td>0.00000</td>\n",
       "      <td>...</td>\n",
       "      <td>0.00000</td>\n",
       "      <td>0.00000</td>\n",
       "      <td>0.00000</td>\n",
       "      <td>0.00000</td>\n",
       "      <td>0.00000</td>\n",
       "      <td>0.00000</td>\n",
       "      <td>0.00000</td>\n",
       "      <td>0.00000</td>\n",
       "      <td>0.00000</td>\n",
       "      <td>123506</td>\n",
       "    </tr>\n",
       "  </tbody>\n",
       "</table>\n",
       "<p>5 rows × 27 columns</p>\n",
       "</div>"
      ],
      "text/plain": [
       "                month       state      permit  permit_recheck     handgun  \\\n",
       "state                                                                       \n",
       "Alabama    2017-09-01     Alabama 16717.00000         0.00000  5734.00000   \n",
       "Alaska     2017-09-01      Alaska   209.00000         2.00000  2320.00000   \n",
       "Arizona    2017-09-01     Arizona  5069.00000       382.00000 11063.00000   \n",
       "Arkansas   2017-09-01    Arkansas  2935.00000       632.00000  4347.00000   \n",
       "California 2017-09-01  California 57839.00000         0.00000 37165.00000   \n",
       "\n",
       "              long_gun      other  multiple    admin  prepawn_handgun   ...    \\\n",
       "state                                                                   ...     \n",
       "Alabama     6320.00000  221.00000       317  0.00000         15.00000   ...     \n",
       "Alaska      2930.00000  219.00000       160  0.00000          5.00000   ...     \n",
       "Arizona     7946.00000  920.00000       631  0.00000         13.00000   ...     \n",
       "Arkansas    6063.00000  165.00000       366 51.00000         12.00000   ...     \n",
       "California 24581.00000 2984.00000         0  0.00000          0.00000   ...     \n",
       "\n",
       "            returned_other  rentals_handgun  rentals_long_gun  \\\n",
       "state                                                           \n",
       "Alabama            0.00000          0.00000           0.00000   \n",
       "Alaska             0.00000          0.00000           0.00000   \n",
       "Arizona            0.00000          0.00000           0.00000   \n",
       "Arkansas           0.00000          0.00000           0.00000   \n",
       "California         0.00000          0.00000           0.00000   \n",
       "\n",
       "            private_sale_handgun  private_sale_long_gun  private_sale_other  \\\n",
       "state                                                                         \n",
       "Alabama                  9.00000               16.00000             3.00000   \n",
       "Alaska                  17.00000               24.00000             1.00000   \n",
       "Arizona                 38.00000               12.00000             2.00000   \n",
       "Arkansas                13.00000               23.00000             0.00000   \n",
       "California               0.00000                0.00000             0.00000   \n",
       "\n",
       "            return_to_seller_handgun  return_to_seller_long_gun  \\\n",
       "state                                                             \n",
       "Alabama                      0.00000                    0.00000   \n",
       "Alaska                       0.00000                    0.00000   \n",
       "Arizona                      0.00000                    0.00000   \n",
       "Arkansas                     0.00000                    2.00000   \n",
       "California                   0.00000                    0.00000   \n",
       "\n",
       "            return_to_seller_other  totals  \n",
       "state                                       \n",
       "Alabama                    3.00000   32019  \n",
       "Alaska                     0.00000    6303  \n",
       "Arizona                    0.00000   28394  \n",
       "Arkansas                   1.00000   17747  \n",
       "California                 0.00000  123506  \n",
       "\n",
       "[5 rows x 27 columns]"
      ]
     },
     "execution_count": 17,
     "metadata": {},
     "output_type": "execute_result"
    }
   ],
   "source": [
    "gun_data.head(n=5)"
   ]
  },
  {
   "cell_type": "markdown",
   "metadata": {},
   "source": [
    ">These cells set the 'state' column of gun_data as the index in order to drop the undesired states."
   ]
  },
  {
   "cell_type": "code",
   "execution_count": 18,
   "metadata": {},
   "outputs": [],
   "source": [
    "gun_data = gun_data.drop(['District of Columbia', 'Guam', 'Mariana Islands', 'Puerto Rico', 'Virgin Islands'])"
   ]
  },
  {
   "cell_type": "markdown",
   "metadata": {},
   "source": [
    ">This cell dropped the five states from gun_data that census_data did not have."
   ]
  },
  {
   "cell_type": "code",
   "execution_count": 19,
   "metadata": {},
   "outputs": [],
   "source": [
    "gun_data = gun_data.set_index(gun_data['month'])"
   ]
  },
  {
   "cell_type": "code",
   "execution_count": 20,
   "metadata": {},
   "outputs": [],
   "source": [
    "gun_data = gun_data.drop(gun_data.loc['2010-03':].index)"
   ]
  },
  {
   "cell_type": "code",
   "execution_count": 21,
   "metadata": {},
   "outputs": [],
   "source": [
    "gun_data = gun_data.drop(gun_data.loc[:'2016-07'].index)"
   ]
  },
  {
   "cell_type": "code",
   "execution_count": 22,
   "metadata": {},
   "outputs": [
    {
     "data": {
      "text/html": [
       "<div>\n",
       "<style scoped>\n",
       "    .dataframe tbody tr th:only-of-type {\n",
       "        vertical-align: middle;\n",
       "    }\n",
       "\n",
       "    .dataframe tbody tr th {\n",
       "        vertical-align: top;\n",
       "    }\n",
       "\n",
       "    .dataframe thead th {\n",
       "        text-align: right;\n",
       "    }\n",
       "</style>\n",
       "<table border=\"1\" class=\"dataframe\">\n",
       "  <thead>\n",
       "    <tr style=\"text-align: right;\">\n",
       "      <th></th>\n",
       "      <th>month</th>\n",
       "      <th>state</th>\n",
       "      <th>permit</th>\n",
       "      <th>permit_recheck</th>\n",
       "      <th>handgun</th>\n",
       "      <th>long_gun</th>\n",
       "      <th>other</th>\n",
       "      <th>multiple</th>\n",
       "      <th>admin</th>\n",
       "      <th>prepawn_handgun</th>\n",
       "      <th>...</th>\n",
       "      <th>returned_other</th>\n",
       "      <th>rentals_handgun</th>\n",
       "      <th>rentals_long_gun</th>\n",
       "      <th>private_sale_handgun</th>\n",
       "      <th>private_sale_long_gun</th>\n",
       "      <th>private_sale_other</th>\n",
       "      <th>return_to_seller_handgun</th>\n",
       "      <th>return_to_seller_long_gun</th>\n",
       "      <th>return_to_seller_other</th>\n",
       "      <th>totals</th>\n",
       "    </tr>\n",
       "    <tr>\n",
       "      <th>month</th>\n",
       "      <th></th>\n",
       "      <th></th>\n",
       "      <th></th>\n",
       "      <th></th>\n",
       "      <th></th>\n",
       "      <th></th>\n",
       "      <th></th>\n",
       "      <th></th>\n",
       "      <th></th>\n",
       "      <th></th>\n",
       "      <th></th>\n",
       "      <th></th>\n",
       "      <th></th>\n",
       "      <th></th>\n",
       "      <th></th>\n",
       "      <th></th>\n",
       "      <th></th>\n",
       "      <th></th>\n",
       "      <th></th>\n",
       "      <th></th>\n",
       "      <th></th>\n",
       "    </tr>\n",
       "  </thead>\n",
       "  <tbody>\n",
       "    <tr>\n",
       "      <th>2016-07-01</th>\n",
       "      <td>2016-07-01</td>\n",
       "      <td>Alabama</td>\n",
       "      <td>27765.00000</td>\n",
       "      <td>0.00000</td>\n",
       "      <td>10132.00000</td>\n",
       "      <td>7392.00000</td>\n",
       "      <td>538.00000</td>\n",
       "      <td>465</td>\n",
       "      <td>0.00000</td>\n",
       "      <td>5.00000</td>\n",
       "      <td>...</td>\n",
       "      <td>0.00000</td>\n",
       "      <td>nan</td>\n",
       "      <td>nan</td>\n",
       "      <td>9.00000</td>\n",
       "      <td>5.00000</td>\n",
       "      <td>0.00000</td>\n",
       "      <td>1.00000</td>\n",
       "      <td>1.00000</td>\n",
       "      <td>0.00000</td>\n",
       "      <td>48927</td>\n",
       "    </tr>\n",
       "    <tr>\n",
       "      <th>2016-07-01</th>\n",
       "      <td>2016-07-01</td>\n",
       "      <td>Alaska</td>\n",
       "      <td>215.00000</td>\n",
       "      <td>0.00000</td>\n",
       "      <td>2898.00000</td>\n",
       "      <td>2816.00000</td>\n",
       "      <td>239.00000</td>\n",
       "      <td>165</td>\n",
       "      <td>0.00000</td>\n",
       "      <td>7.00000</td>\n",
       "      <td>...</td>\n",
       "      <td>0.00000</td>\n",
       "      <td>nan</td>\n",
       "      <td>nan</td>\n",
       "      <td>7.00000</td>\n",
       "      <td>17.00000</td>\n",
       "      <td>0.00000</td>\n",
       "      <td>1.00000</td>\n",
       "      <td>0.00000</td>\n",
       "      <td>0.00000</td>\n",
       "      <td>6793</td>\n",
       "    </tr>\n",
       "    <tr>\n",
       "      <th>2016-07-01</th>\n",
       "      <td>2016-07-01</td>\n",
       "      <td>Arizona</td>\n",
       "      <td>7863.00000</td>\n",
       "      <td>308.00000</td>\n",
       "      <td>13693.00000</td>\n",
       "      <td>8643.00000</td>\n",
       "      <td>1283.00000</td>\n",
       "      <td>642</td>\n",
       "      <td>0.00000</td>\n",
       "      <td>5.00000</td>\n",
       "      <td>...</td>\n",
       "      <td>0.00000</td>\n",
       "      <td>nan</td>\n",
       "      <td>nan</td>\n",
       "      <td>13.00000</td>\n",
       "      <td>9.00000</td>\n",
       "      <td>0.00000</td>\n",
       "      <td>0.00000</td>\n",
       "      <td>1.00000</td>\n",
       "      <td>0.00000</td>\n",
       "      <td>34496</td>\n",
       "    </tr>\n",
       "    <tr>\n",
       "      <th>2016-07-01</th>\n",
       "      <td>2016-07-01</td>\n",
       "      <td>Arkansas</td>\n",
       "      <td>4116.00000</td>\n",
       "      <td>677.00000</td>\n",
       "      <td>6323.00000</td>\n",
       "      <td>5053.00000</td>\n",
       "      <td>325.00000</td>\n",
       "      <td>367</td>\n",
       "      <td>2.00000</td>\n",
       "      <td>6.00000</td>\n",
       "      <td>...</td>\n",
       "      <td>0.00000</td>\n",
       "      <td>nan</td>\n",
       "      <td>nan</td>\n",
       "      <td>7.00000</td>\n",
       "      <td>5.00000</td>\n",
       "      <td>1.00000</td>\n",
       "      <td>0.00000</td>\n",
       "      <td>1.00000</td>\n",
       "      <td>0.00000</td>\n",
       "      <td>19378</td>\n",
       "    </tr>\n",
       "    <tr>\n",
       "      <th>2016-07-01</th>\n",
       "      <td>2016-07-01</td>\n",
       "      <td>California</td>\n",
       "      <td>77962.00000</td>\n",
       "      <td>0.00000</td>\n",
       "      <td>46361.00000</td>\n",
       "      <td>47594.00000</td>\n",
       "      <td>17297.00000</td>\n",
       "      <td>0</td>\n",
       "      <td>0.00000</td>\n",
       "      <td>0.00000</td>\n",
       "      <td>...</td>\n",
       "      <td>0.00000</td>\n",
       "      <td>nan</td>\n",
       "      <td>nan</td>\n",
       "      <td>0.00000</td>\n",
       "      <td>0.00000</td>\n",
       "      <td>0.00000</td>\n",
       "      <td>0.00000</td>\n",
       "      <td>0.00000</td>\n",
       "      <td>0.00000</td>\n",
       "      <td>190218</td>\n",
       "    </tr>\n",
       "  </tbody>\n",
       "</table>\n",
       "<p>5 rows × 27 columns</p>\n",
       "</div>"
      ],
      "text/plain": [
       "                month       state      permit  permit_recheck     handgun  \\\n",
       "month                                                                       \n",
       "2016-07-01 2016-07-01     Alabama 27765.00000         0.00000 10132.00000   \n",
       "2016-07-01 2016-07-01      Alaska   215.00000         0.00000  2898.00000   \n",
       "2016-07-01 2016-07-01     Arizona  7863.00000       308.00000 13693.00000   \n",
       "2016-07-01 2016-07-01    Arkansas  4116.00000       677.00000  6323.00000   \n",
       "2016-07-01 2016-07-01  California 77962.00000         0.00000 46361.00000   \n",
       "\n",
       "              long_gun       other  multiple   admin  prepawn_handgun   ...    \\\n",
       "month                                                                   ...     \n",
       "2016-07-01  7392.00000   538.00000       465 0.00000          5.00000   ...     \n",
       "2016-07-01  2816.00000   239.00000       165 0.00000          7.00000   ...     \n",
       "2016-07-01  8643.00000  1283.00000       642 0.00000          5.00000   ...     \n",
       "2016-07-01  5053.00000   325.00000       367 2.00000          6.00000   ...     \n",
       "2016-07-01 47594.00000 17297.00000         0 0.00000          0.00000   ...     \n",
       "\n",
       "            returned_other  rentals_handgun  rentals_long_gun  \\\n",
       "month                                                           \n",
       "2016-07-01         0.00000              nan               nan   \n",
       "2016-07-01         0.00000              nan               nan   \n",
       "2016-07-01         0.00000              nan               nan   \n",
       "2016-07-01         0.00000              nan               nan   \n",
       "2016-07-01         0.00000              nan               nan   \n",
       "\n",
       "            private_sale_handgun  private_sale_long_gun  private_sale_other  \\\n",
       "month                                                                         \n",
       "2016-07-01               9.00000                5.00000             0.00000   \n",
       "2016-07-01               7.00000               17.00000             0.00000   \n",
       "2016-07-01              13.00000                9.00000             0.00000   \n",
       "2016-07-01               7.00000                5.00000             1.00000   \n",
       "2016-07-01               0.00000                0.00000             0.00000   \n",
       "\n",
       "            return_to_seller_handgun  return_to_seller_long_gun  \\\n",
       "month                                                             \n",
       "2016-07-01                   1.00000                    1.00000   \n",
       "2016-07-01                   1.00000                    0.00000   \n",
       "2016-07-01                   0.00000                    1.00000   \n",
       "2016-07-01                   0.00000                    1.00000   \n",
       "2016-07-01                   0.00000                    0.00000   \n",
       "\n",
       "            return_to_seller_other  totals  \n",
       "month                                       \n",
       "2016-07-01                 0.00000   48927  \n",
       "2016-07-01                 0.00000    6793  \n",
       "2016-07-01                 0.00000   34496  \n",
       "2016-07-01                 0.00000   19378  \n",
       "2016-07-01                 0.00000  190218  \n",
       "\n",
       "[5 rows x 27 columns]"
      ]
     },
     "execution_count": 22,
     "metadata": {},
     "output_type": "execute_result"
    }
   ],
   "source": [
    "gun_data.head(n=5)"
   ]
  },
  {
   "cell_type": "markdown",
   "metadata": {},
   "source": [
    ">This group of cells made the month column into the index for gun_data and dropped all rows with dates that were not also in census_data."
   ]
  },
  {
   "cell_type": "code",
   "execution_count": 23,
   "metadata": {},
   "outputs": [],
   "source": [
    "census_data_sample = census_data[['Population estimates, July 1, 2016', 'Population estimates base, April 1, 2010', 'Population, percent change - April 1, 2010 to July 1, 2016', 'Population, Census, April 1, 2010', \"Bachelor's degree or higher, percent of persons age 25 years+, 2011-2015\", 'Median household income, 2011-2015']]"
   ]
  },
  {
   "cell_type": "code",
   "execution_count": 24,
   "metadata": {},
   "outputs": [
    {
     "data": {
      "text/html": [
       "<div>\n",
       "<style scoped>\n",
       "    .dataframe tbody tr th:only-of-type {\n",
       "        vertical-align: middle;\n",
       "    }\n",
       "\n",
       "    .dataframe tbody tr th {\n",
       "        vertical-align: top;\n",
       "    }\n",
       "\n",
       "    .dataframe thead th {\n",
       "        text-align: right;\n",
       "    }\n",
       "</style>\n",
       "<table border=\"1\" class=\"dataframe\">\n",
       "  <thead>\n",
       "    <tr style=\"text-align: right;\">\n",
       "      <th>Fact</th>\n",
       "      <th>Population estimates, July 1, 2016</th>\n",
       "      <th>Population estimates base, April 1, 2010</th>\n",
       "      <th>Population, percent change - April 1, 2010 to July 1, 2016</th>\n",
       "      <th>Population, Census, April 1, 2010</th>\n",
       "      <th>Bachelor's degree or higher, percent of persons age 25 years+, 2011-2015</th>\n",
       "      <th>Median household income, 2011-2015</th>\n",
       "    </tr>\n",
       "  </thead>\n",
       "  <tbody>\n",
       "    <tr>\n",
       "      <th>Alabama</th>\n",
       "      <td>4863300</td>\n",
       "      <td>4780131</td>\n",
       "      <td>0.017</td>\n",
       "      <td>4779736</td>\n",
       "      <td>0.235</td>\n",
       "      <td>43623</td>\n",
       "    </tr>\n",
       "    <tr>\n",
       "      <th>Alaska</th>\n",
       "      <td>741894</td>\n",
       "      <td>710249</td>\n",
       "      <td>0.045</td>\n",
       "      <td>710231</td>\n",
       "      <td>0.28</td>\n",
       "      <td>72515</td>\n",
       "    </tr>\n",
       "    <tr>\n",
       "      <th>Arizona</th>\n",
       "      <td>6931071</td>\n",
       "      <td>6392301</td>\n",
       "      <td>0.084</td>\n",
       "      <td>6392017</td>\n",
       "      <td>0.275</td>\n",
       "      <td>50255</td>\n",
       "    </tr>\n",
       "    <tr>\n",
       "      <th>Arkansas</th>\n",
       "      <td>2988248</td>\n",
       "      <td>2916025</td>\n",
       "      <td>0.025</td>\n",
       "      <td>2915918</td>\n",
       "      <td>0.211</td>\n",
       "      <td>41371</td>\n",
       "    </tr>\n",
       "    <tr>\n",
       "      <th>California</th>\n",
       "      <td>39250017</td>\n",
       "      <td>37254522</td>\n",
       "      <td>0.054</td>\n",
       "      <td>37253956</td>\n",
       "      <td>0.314</td>\n",
       "      <td>61818</td>\n",
       "    </tr>\n",
       "  </tbody>\n",
       "</table>\n",
       "</div>"
      ],
      "text/plain": [
       "Fact       Population estimates, July 1, 2016  \\\n",
       "Alabama                               4863300   \n",
       "Alaska                                 741894   \n",
       "Arizona                               6931071   \n",
       "Arkansas                              2988248   \n",
       "California                           39250017   \n",
       "\n",
       "Fact       Population estimates base, April 1, 2010  \\\n",
       "Alabama                                     4780131   \n",
       "Alaska                                       710249   \n",
       "Arizona                                     6392301   \n",
       "Arkansas                                    2916025   \n",
       "California                                 37254522   \n",
       "\n",
       "Fact       Population, percent change - April 1, 2010 to July 1, 2016  \\\n",
       "Alabama                                                 0.017           \n",
       "Alaska                                                  0.045           \n",
       "Arizona                                                 0.084           \n",
       "Arkansas                                                0.025           \n",
       "California                                              0.054           \n",
       "\n",
       "Fact       Population, Census, April 1, 2010  \\\n",
       "Alabama                              4779736   \n",
       "Alaska                                710231   \n",
       "Arizona                              6392017   \n",
       "Arkansas                             2915918   \n",
       "California                          37253956   \n",
       "\n",
       "Fact       Bachelor's degree or higher, percent of persons age 25 years+, 2011-2015  \\\n",
       "Alabama                                                 0.235                         \n",
       "Alaska                                                   0.28                         \n",
       "Arizona                                                 0.275                         \n",
       "Arkansas                                                0.211                         \n",
       "California                                              0.314                         \n",
       "\n",
       "Fact       Median household income, 2011-2015  \n",
       "Alabama                                 43623  \n",
       "Alaska                                  72515  \n",
       "Arizona                                 50255  \n",
       "Arkansas                                41371  \n",
       "California                              61818  "
      ]
     },
     "execution_count": 24,
     "metadata": {},
     "output_type": "execute_result"
    }
   ],
   "source": [
    "census_data_sample.head(n=5)"
   ]
  },
  {
   "cell_type": "markdown",
   "metadata": {},
   "source": [
    ">These cells made a new DataFrame, census_data_sample, which contains only the columns that are relevant to my questions, and printed it out."
   ]
  },
  {
   "cell_type": "code",
   "execution_count": 25,
   "metadata": {},
   "outputs": [],
   "source": [
    "census_data_sample = census_data_sample.astype({'Population estimates, July 1, 2016': 'int64', \n",
    "                                                'Population estimates base, April 1, 2010': 'int64',\n",
    "                                                'Population, percent change - April 1, 2010 to July 1, 2016': 'float64', \n",
    "                                                'Population, Census, April 1, 2010': 'int64',\n",
    "                                                \"Bachelor's degree or higher, percent of persons age 25 years+, 2011-2015\": 'float64',\n",
    "                                                'Median household income, 2011-2015': 'int64'})"
   ]
  },
  {
   "cell_type": "markdown",
   "metadata": {},
   "source": [
    ">This cell changes the data types of the columns in census_data_sample to the appropriate types."
   ]
  },
  {
   "cell_type": "markdown",
   "metadata": {},
   "source": [
    "<a id='eda'></a>\n",
    "## Exploratory Data Analysis\n",
    "\n",
    "\n",
    "### What is the correlation between percent population change per state and the percent change in gun permits per state?"
   ]
  },
  {
   "cell_type": "code",
   "execution_count": 26,
   "metadata": {},
   "outputs": [],
   "source": [
    "gun_permit_change = pd.DataFrame([gun_data.loc['2016-07', 'permit'].values, gun_data.loc['2010-04', 'permit'].values],\n",
    "                                 index=['2016-07', '2010-04'],\n",
    "                                 columns=gun_data.loc['2016-07', 'state'].values).T"
   ]
  },
  {
   "cell_type": "markdown",
   "metadata": {},
   "source": [
    ">This cell creates a new dataframe, gun_permit_change, which contains the permit values from all states for the dates '2016-07' and '2010-04', and transposes the table so that the states are the index and the permits for each date are columns."
   ]
  },
  {
   "cell_type": "code",
   "execution_count": 27,
   "metadata": {},
   "outputs": [],
   "source": [
    "gun_permit_change['Percent Difference'] = gun_permit_change['2016-07'].sub(gun_permit_change['2010-04']).div(gun_permit_change['2010-04'], fill_value=0).replace(np.inf, 0)"
   ]
  },
  {
   "cell_type": "markdown",
   "metadata": {},
   "source": [
    ">This cell created a new column in gun_permit_change called 'Percent Difference' which holds the percent difference between the permits in 2010 and 2016 per state, in decimal form. Decimals seemed like a more manageable way of showing the percent difference in both the gun_permit_change table and the census_data_sample table."
   ]
  },
  {
   "cell_type": "code",
   "execution_count": 28,
   "metadata": {},
   "outputs": [],
   "source": [
    "gun_permit_change = gun_permit_change.join(census_data_sample)"
   ]
  },
  {
   "cell_type": "code",
   "execution_count": 29,
   "metadata": {},
   "outputs": [],
   "source": [
    "gun_permit_change_filtered = gun_permit_change.drop(gun_permit_change[gun_permit_change['Percent Difference'] > 10].index)"
   ]
  },
  {
   "cell_type": "markdown",
   "metadata": {},
   "source": [
    ">These two cells join the census_data_sample table onto the gun_permit_change table, and then drops all rows where the 'Percent Difference' column is above 10, because that data is not very useful and would skew the scatterplot drastically."
   ]
  },
  {
   "cell_type": "code",
   "execution_count": 30,
   "metadata": {},
   "outputs": [],
   "source": [
    "def plot_regplot(col1, col2, title):\n",
    "    plt.figure(figsize=(8,6))\n",
    "    return sns.regplot(col1, col2).set_title(title)"
   ]
  },
  {
   "cell_type": "code",
   "execution_count": 33,
   "metadata": {},
   "outputs": [
    {
     "data": {
      "text/plain": [
       "Text(0.5,1,'Gun Permit, percent change vs Population, percent change')"
      ]
     },
     "execution_count": 33,
     "metadata": {},
     "output_type": "execute_result"
    },
    {
     "data": {
      "image/png": "[encoded data removed]",
      "text/plain": [
       "<matplotlib.figure.Figure at 0x7f783f001c18>"
      ]
     },
     "metadata": {
      "needs_background": "light"
     },
     "output_type": "display_data"
    }
   ],
   "source": [
    "plot_regplot(gun_permit_change_filtered['Percent Difference'] ,gun_permit_change_filtered['Population, percent change - April 1, 2010 to July 1, 2016'], 'Gun Permit, percent change vs Population, percent change')"
   ]
  },
  {
   "cell_type": "markdown",
   "metadata": {},
   "source": [
    ">This cell plotted the percent growth of gun permits per state against the percent growth of population per state in a scatterplot. It appears from the scatterplot that there is a positive correlation between the two variables, however the correlation is loose, there are several states that have a negative correlation and many that have no correlation."
   ]
  },
  {
   "cell_type": "code",
   "execution_count": 34,
   "metadata": {},
   "outputs": [
    {
     "data": {
      "text/plain": [
       "-0.041489403019068963"
      ]
     },
     "execution_count": 34,
     "metadata": {},
     "output_type": "execute_result"
    }
   ],
   "source": [
    "gun_permit_change_filtered['Percent Difference'].corr(gun_permit_change_filtered['Population, percent change - April 1, 2010 to July 1, 2016'])"
   ]
  },
  {
   "cell_type": "markdown",
   "metadata": {},
   "source": [
    ">Taking the correlation between the variables reveals that there is actually a very loose negative correlation between them. According to this data, there is a very slight negative correlation between the population growth per state and the growth in number of gun permits per state, although it is very weak. This goes against my intuition and guess as to how these variables would be related."
   ]
  },
  {
   "cell_type": "markdown",
   "metadata": {},
   "source": [
    "### What is the correlation between the percent population with a Bachelor's Degree or higher and the percentage of gun permits per state?"
   ]
  },
  {
   "cell_type": "code",
   "execution_count": 35,
   "metadata": {},
   "outputs": [],
   "source": [
    "gun_permits_temp = gun_data[['month','state', 'permit']]"
   ]
  },
  {
   "cell_type": "markdown",
   "metadata": {},
   "source": [
    ">This cell creates a new dataframe, gun_permits_temp, which includes the columns 'month', 'state', and 'permit' from gun_data."
   ]
  },
  {
   "cell_type": "code",
   "execution_count": 36,
   "metadata": {},
   "outputs": [],
   "source": [
    "gun_permits_temp = gun_permits_temp.pivot(index='state', columns='month')"
   ]
  },
  {
   "cell_type": "markdown",
   "metadata": {},
   "source": [
    ">This cell pivots the gun_permits_temp table so that the 'state' column becomes the index and the unique values from the 'month' column become the column headers."
   ]
  },
  {
   "cell_type": "code",
   "execution_count": 37,
   "metadata": {},
   "outputs": [],
   "source": [
    "gun_permits_mean = pd.DataFrame(gun_permits_temp.mean(axis=1), columns=['mean permits'])"
   ]
  },
  {
   "cell_type": "markdown",
   "metadata": {},
   "source": [
    ">This cell calculates the mean number of permits per state across all months and puts them into a dataframe."
   ]
  },
  {
   "cell_type": "code",
   "execution_count": 38,
   "metadata": {},
   "outputs": [],
   "source": [
    "gun_permits_mean = gun_permits_mean.join(census_data_sample[[\"Bachelor's degree or higher, percent of persons age 25 years+, 2011-2015\", \n",
    "     'Population estimates base, April 1, 2010', 'Population estimates, July 1, 2016']])"
   ]
  },
  {
   "cell_type": "markdown",
   "metadata": {},
   "source": [
    ">This cell joins the bachelor's degree percentage, the population estimates in 2010, and the population estimates in 2016 per state with gun_permits_mean on the index 'state'."
   ]
  },
  {
   "cell_type": "code",
   "execution_count": 39,
   "metadata": {},
   "outputs": [],
   "source": [
    "gun_permits_mean['permits/pop percentage'] = gun_permits_mean['mean permits'].div(gun_permits_mean[['Population estimates base, April 1, 2010', \n",
    "                                                                                                    'Population estimates, July 1, 2016']].mean(axis=1))"
   ]
  },
  {
   "cell_type": "markdown",
   "metadata": {},
   "source": [
    ">This cell calculates the percentage of gun permits per population per state and puts them into a new column 'permits/pop percentage'. This calculation gives a more accurate representation of the number of gun permits compared to percentage of bachelor's degree than just the number of gun permits per state."
   ]
  },
  {
   "cell_type": "code",
   "execution_count": 48,
   "metadata": {},
   "outputs": [
    {
     "data": {
      "text/plain": [
       "Text(0.5,1,'Permits/Pop Percentage by State')"
      ]
     },
     "execution_count": 48,
     "metadata": {},
     "output_type": "execute_result"
    },
    {
     "data": {
      "image/png": "[encoded data removed]",
      "text/plain": [
       "<matplotlib.figure.Figure at 0x7f783cb0a6a0>"
      ]
     },
     "metadata": {
      "needs_background": "light"
     },
     "output_type": "display_data"
    }
   ],
   "source": [
    "plt.figure(figsize=(15.5,8))\n",
    "plt.xticks(rotation=-60)\n",
    "sns.barplot(x=gun_permits_mean.index, y=gun_permits_mean['permits/pop percentage']).set_title('Permits/Pop Percentage by State')"
   ]
  },
  {
   "cell_type": "code",
   "execution_count": 40,
   "metadata": {},
   "outputs": [
    {
     "data": {
      "text/plain": [
       "Text(0.5,1,'Permits/Pop Percentage vs Bachelors Degree or higher, percentage')"
      ]
     },
     "execution_count": 40,
     "metadata": {},
     "output_type": "execute_result"
    },
    {
     "data": {
      "image/png": "[encoded data removed]",
      "text/plain": [
       "<matplotlib.figure.Figure at 0x7f783cf4ccc0>"
      ]
     },
     "metadata": {
      "needs_background": "light"
     },
     "output_type": "display_data"
    }
   ],
   "source": [
    "plot_regplot(gun_permits_mean['permits/pop percentage'], \n",
    "             gun_permits_mean[\"Bachelor's degree or higher, percent of persons age 25 years+, 2011-2015\"], \n",
    "             'Permits/Pop Percentage vs Bachelors Degree or higher, percentage')"
   ]
  },
  {
   "cell_type": "code",
   "execution_count": 41,
   "metadata": {},
   "outputs": [
    {
     "data": {
      "text/plain": [
       "-0.17288124761724011"
      ]
     },
     "execution_count": 41,
     "metadata": {},
     "output_type": "execute_result"
    }
   ],
   "source": [
    "gun_permits_mean['permits/pop percentage'].corr(gun_permits_mean[\"Bachelor's degree or higher, percent of persons age 25 years+, 2011-2015\"])"
   ]
  },
  {
   "cell_type": "markdown",
   "metadata": {},
   "source": [
    ">These two cells plot the permits per population percentage and the bachelor's degree percentage on a scatterplot, and show the correlation between these two variables. As expected in my hypothesis the two variables are negatively correlated, as shown by the scatterplot and the correlation coefficient."
   ]
  },
  {
   "cell_type": "markdown",
   "metadata": {},
   "source": [
    "### What is the correlation between the median household income and the percentage of gun permits per state?"
   ]
  },
  {
   "cell_type": "code",
   "execution_count": 42,
   "metadata": {},
   "outputs": [
    {
     "data": {
      "text/plain": [
       "Text(0.5,1,'Permits/Pop Percentage vs Median Household Income')"
      ]
     },
     "execution_count": 42,
     "metadata": {},
     "output_type": "execute_result"
    },
    {
     "data": {
      "image/png": "[encoded data removed]",
      "text/plain": [
       "<matplotlib.figure.Figure at 0x7f783cf07630>"
      ]
     },
     "metadata": {
      "needs_background": "light"
     },
     "output_type": "display_data"
    }
   ],
   "source": [
    "plot_regplot(gun_permits_mean['permits/pop percentage'], census_data_sample['Median household income, 2011-2015'],\n",
    "             'Permits/Pop Percentage vs Median Household Income')"
   ]
  },
  {
   "cell_type": "code",
   "execution_count": 43,
   "metadata": {},
   "outputs": [
    {
     "data": {
      "text/plain": [
       "-0.14308404995159199"
      ]
     },
     "execution_count": 43,
     "metadata": {},
     "output_type": "execute_result"
    }
   ],
   "source": [
    "gun_permits_mean['permits/pop percentage'].corr(census_data_sample['Median household income, 2011-2015'])"
   ]
  },
  {
   "cell_type": "markdown",
   "metadata": {},
   "source": [
    ">These two cells show a scatterplot of the percentage of permits against the median household income per state and the correlation between these two variables. As expected, these variables compare similarly to the previous comparison between percentage of permits and percentage of bachelor's degrees, that is a weak negative correlation."
   ]
  },
  {
   "cell_type": "markdown",
   "metadata": {},
   "source": [
    "<a id='conclusions'></a>\n",
    "## Conclusions\n",
    "\n",
    "> In conclusion, there may be a correlation between gun data and higher education and household income per state. According to my graphs and research it appears like as more people have bachelor's degrees and median household incomes is higher, less people tend to obtain permits for guns. There was such a small correlation between population growth and the growth of gun permits being obtained that it's difficult to draw a conclusion from this research. More research would have to be done to draw any concrete conclusions from any of this data. My conclusions and results are tentative and do not show causation, only correlation."
   ]
  },
  {
   "cell_type": "code",
   "execution_count": 49,
   "metadata": {},
   "outputs": [
    {
     "data": {
      "text/plain": [
       "0"
      ]
     },
     "execution_count": 49,
     "metadata": {},
     "output_type": "execute_result"
    }
   ],
   "source": [
    "from subprocess import call\n",
    "call(['python', '-m', 'nbconvert', 'Investigate_a_Dataset.ipynb'])"
   ]
  },
  {
   "cell_type": "code",
   "execution_count": null,
   "metadata": {},
   "outputs": [],
   "source": []
  }
 ],
 "metadata": {
  "kernelspec": {
   "display_name": "Python 3",
   "language": "python",
   "name": "python3"
  },
  "language_info": {
   "codemirror_mode": {
    "name": "ipython",
    "version": 3
   },
   "file_extension": ".py",
   "mimetype": "text/x-python",
   "name": "python",
   "nbconvert_exporter": "python",
   "pygments_lexer": "ipython3",
   "version": "3.6.3"
  }
 },
 "nbformat": 4,
 "nbformat_minor": 2
}
